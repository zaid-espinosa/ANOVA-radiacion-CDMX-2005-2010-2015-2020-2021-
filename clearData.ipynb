{
 "cells": [
  {
   "attachments": {},
   "cell_type": "markdown",
   "metadata": {},
   "source": [
    "Importando Librerias"
   ]
  },
  {
   "cell_type": "code",
   "execution_count": 1,
   "metadata": {},
   "outputs": [],
   "source": [
    "import pandas as pd\n",
    "import matplotlib.pyplot as plt\n",
    "import numpy as np\n",
    "import calendar\n",
    "from scipy.stats import f_oneway "
   ]
  },
  {
   "attachments": {},
   "cell_type": "markdown",
   "metadata": {},
   "source": [
    "Importando DataFrames"
   ]
  },
  {
   "cell_type": "code",
   "execution_count": 2,
   "metadata": {},
   "outputs": [],
   "source": [
    "df05 = pd.read_csv(\"./DataFrames/UVA_2005.csv\")\n",
    "df10 = pd.read_csv(\"./DataFrames/UVA_2010.csv\")\n",
    "df15 = pd.read_csv(\"./DataFrames/UVA_2015.csv\")\n",
    "df20 = pd.read_csv(\"./DataFrames/UVA_2020.csv\")\n",
    "df21 = pd.read_csv(\"./DataFrames/UVA_2021.csv\")"
   ]
  },
  {
   "attachments": {},
   "cell_type": "markdown",
   "metadata": {},
   "source": [
    "Imprimir nombre de las columnas"
   ]
  },
  {
   "cell_type": "code",
   "execution_count": 3,
   "metadata": {},
   "outputs": [
    {
     "name": "stdout",
     "output_type": "stream",
     "text": [
      "Index(['Date', 'cve_station', 'parameter', 'value', 'unit', 'Unnamed: 5',\n",
      "       'Unnamed: 6', 'Unnamed: 7', 'Unnamed: 8', 'Unnamed: 9'],\n",
      "      dtype='object')\n"
     ]
    }
   ],
   "source": [
    "print(df05.columns)"
   ]
  },
  {
   "attachments": {},
   "cell_type": "markdown",
   "metadata": {},
   "source": [
    "Creando nuevas DataFrames solo con las columnas *Date* y *value* y limpiandola de los valores NaN"
   ]
  },
  {
   "cell_type": "code",
   "execution_count": 4,
   "metadata": {},
   "outputs": [],
   "source": [
    "data05 = df05[[\"Date\", \"value\"]].dropna()\n",
    "data10 = df10[[\"Date\", \"value\"]].dropna()\n",
    "data15 = df15[[\"Date\", \"value\"]].dropna()\n",
    "data20 = df20[[\"Date\", \"value\"]].dropna()\n",
    "data21 = df21[[\"Date\", \"value\"]].dropna()"
   ]
  },
  {
   "attachments": {},
   "cell_type": "markdown",
   "metadata": {},
   "source": [
    "Convirtiendo a formato Datetime de pandas la columna Date"
   ]
  },
  {
   "cell_type": "code",
   "execution_count": 5,
   "metadata": {},
   "outputs": [],
   "source": [
    "data05['Date'] = pd.to_datetime(data05['Date'], format='%d/%m/%Y %H:%M', errors='coerce')\n",
    "data10['Date'] = pd.to_datetime(data10['Date'], format='%d/%m/%Y %H:%M', errors='coerce')\n",
    "data15['Date'] = pd.to_datetime(data15['Date'], format='%d/%m/%Y %H:%M', errors='coerce')\n",
    "data20['Date'] = pd.to_datetime(data20['Date'], format='%d/%m/%Y %H:%M', errors='coerce')\n",
    "data21['Date'] = pd.to_datetime(data21['Date'], format='%d/%m/%Y %H:%M', errors='coerce')"
   ]
  },
  {
   "attachments": {},
   "cell_type": "markdown",
   "metadata": {},
   "source": [
    "Agrupando los datos por mes y calculando máximo"
   ]
  },
  {
   "cell_type": "code",
   "execution_count": 6,
   "metadata": {},
   "outputs": [],
   "source": [
    "data05MaxMes = data05.groupby(data05['Date'].dt.to_period('M')).max()\n",
    "data10MaxMes = data10.groupby(data10['Date'].dt.to_period('M')).max()\n",
    "data15MaxMes = data15.groupby(data15['Date'].dt.to_period('M')).max()\n",
    "data20MaxMes = data20.groupby(data20['Date'].dt.to_period('M')).max()\n",
    "data21MaxMes = data21.groupby(data21['Date'].dt.to_period('M')).max()"
   ]
  },
  {
   "attachments": {},
   "cell_type": "markdown",
   "metadata": {},
   "source": [
    "Calculando media"
   ]
  },
  {
   "cell_type": "code",
   "execution_count": 7,
   "metadata": {},
   "outputs": [
    {
     "name": "stderr",
     "output_type": "stream",
     "text": [
      "C:\\Users\\zdesp\\AppData\\Local\\Temp\\ipykernel_8372\\2937616212.py:1: FutureWarning: The default value of numeric_only in DataFrameGroupBy.mean is deprecated. In a future version, numeric_only will default to False. Either specify numeric_only or select only columns which should be valid for the function.\n",
      "  data05Mean = data05MaxMes.groupby(data05MaxMes['Date'].dt.to_period('M')).mean()\n",
      "C:\\Users\\zdesp\\AppData\\Local\\Temp\\ipykernel_8372\\2937616212.py:2: FutureWarning: The default value of numeric_only in DataFrameGroupBy.mean is deprecated. In a future version, numeric_only will default to False. Either specify numeric_only or select only columns which should be valid for the function.\n",
      "  data10Mean = data10MaxMes.groupby(data10MaxMes['Date'].dt.to_period('M')).mean()\n",
      "C:\\Users\\zdesp\\AppData\\Local\\Temp\\ipykernel_8372\\2937616212.py:3: FutureWarning: The default value of numeric_only in DataFrameGroupBy.mean is deprecated. In a future version, numeric_only will default to False. Either specify numeric_only or select only columns which should be valid for the function.\n",
      "  data15Mean = data15MaxMes.groupby(data15MaxMes['Date'].dt.to_period('M')).mean()\n",
      "C:\\Users\\zdesp\\AppData\\Local\\Temp\\ipykernel_8372\\2937616212.py:4: FutureWarning: The default value of numeric_only in DataFrameGroupBy.mean is deprecated. In a future version, numeric_only will default to False. Either specify numeric_only or select only columns which should be valid for the function.\n",
      "  data20Mean = data20MaxMes.groupby(data20MaxMes['Date'].dt.to_period('M')).mean()\n",
      "C:\\Users\\zdesp\\AppData\\Local\\Temp\\ipykernel_8372\\2937616212.py:5: FutureWarning: The default value of numeric_only in DataFrameGroupBy.mean is deprecated. In a future version, numeric_only will default to False. Either specify numeric_only or select only columns which should be valid for the function.\n",
      "  data21Mean = data21MaxMes.groupby(data21MaxMes['Date'].dt.to_period('M')).mean()\n"
     ]
    }
   ],
   "source": [
    "data05Mean = data05MaxMes.groupby(data05MaxMes['Date'].dt.to_period('M')).mean()\n",
    "data10Mean = data10MaxMes.groupby(data10MaxMes['Date'].dt.to_period('M')).mean()\n",
    "data15Mean = data15MaxMes.groupby(data15MaxMes['Date'].dt.to_period('M')).mean()\n",
    "data20Mean = data20MaxMes.groupby(data20MaxMes['Date'].dt.to_period('M')).mean()\n",
    "data21Mean = data21MaxMes.groupby(data21MaxMes['Date'].dt.to_period('M')).mean()"
   ]
  },
  {
   "attachments": {},
   "cell_type": "markdown",
   "metadata": {},
   "source": [
    "Creando una columna con los meses del año"
   ]
  },
  {
   "cell_type": "code",
   "execution_count": 8,
   "metadata": {},
   "outputs": [],
   "source": [
    "months = list(calendar.month_name)[1:]\n",
    "\n",
    "data05Mean.insert(0, \"month\", months)\n",
    "data10Mean.insert(0, \"month\", months)\n",
    "data15Mean.insert(0, \"month\", months)\n",
    "data20Mean.insert(0, \"month\", months)\n",
    "data21Mean.insert(0, \"month\", months)\n"
   ]
  },
  {
   "attachments": {},
   "cell_type": "markdown",
   "metadata": {},
   "source": [
    "Asignando a una variables las columnas month y value sin index"
   ]
  },
  {
   "cell_type": "code",
   "execution_count": 9,
   "metadata": {},
   "outputs": [],
   "source": [
    "df2005 = data05Mean.reset_index()[['month', 'value']]\n",
    "df2010 = data10Mean.reset_index()[['month', 'value']]\n",
    "df2015 = data15Mean.reset_index()[['month', 'value']]\n",
    "df2020 = data20Mean.reset_index()[['month', 'value']]\n",
    "df2021 = data21Mean.reset_index()[['month', 'value']]"
   ]
  },
  {
   "cell_type": "code",
   "execution_count": 10,
   "metadata": {},
   "outputs": [
    {
     "name": "stdout",
     "output_type": "stream",
     "text": [
      "        month  value\n",
      "0     January  4.320\n",
      "1    February  5.531\n",
      "2       March  5.819\n",
      "3       April  5.855\n",
      "4         May  5.796\n",
      "5        June  5.927\n",
      "6        July  6.067\n",
      "7      August  6.026\n",
      "8   September  5.838\n",
      "9     October  5.317\n",
      "10   November  4.636\n",
      "11   December  4.021\n"
     ]
    }
   ],
   "source": [
    "print(df2005)"
   ]
  },
  {
   "attachments": {},
   "cell_type": "markdown",
   "metadata": {},
   "source": [
    "Concatenando DataFrames"
   ]
  },
  {
   "cell_type": "code",
   "execution_count": 11,
   "metadata": {},
   "outputs": [
    {
     "name": "stdout",
     "output_type": "stream",
     "text": [
      "        month   2005   2010   2015    2020   2021\n",
      "0     January  4.320  4.981  5.966  4.6760  4.500\n",
      "1    February  5.531  5.897  6.342  5.4080  5.132\n",
      "2       March  5.819  6.230  7.828  5.7830  5.576\n",
      "3       April  5.855  6.385  7.305  5.9705  5.963\n",
      "4         May  5.796  6.255  6.720  6.0000  6.153\n",
      "5        June  5.927  6.635  7.229  6.3370  6.211\n",
      "6        July  6.067  6.812  7.012  6.3070  6.239\n",
      "7      August  6.026  6.497  7.651  6.3650  6.418\n",
      "8   September  5.838  6.533  6.999  6.0060  5.882\n",
      "9     October  5.317  5.957  6.417  5.6860  5.649\n",
      "10   November  4.636  5.117  6.345  4.8130  4.896\n",
      "11   December  4.021  4.565  5.238  4.3140  4.311\n"
     ]
    }
   ],
   "source": [
    "df_concat = pd.concat([df2005['value'], df2010['value'], df2015['value'], df2020['value'], df2021['value'],], axis=1, keys=['2005', '2010', '2015', '2020', '2021'])\n",
    "df_concat.insert(0, \"month\", months)\n",
    "print(df_concat)"
   ]
  },
  {
   "cell_type": "code",
   "execution_count": 12,
   "metadata": {},
   "outputs": [
    {
     "name": "stdout",
     "output_type": "stream",
     "text": [
      "     2005   2010   2015    2020   2021\n",
      "0   4.320  4.981  5.966  4.6760  4.500\n",
      "1   5.531  5.897  6.342  5.4080  5.132\n",
      "2   5.819  6.230  7.828  5.7830  5.576\n",
      "3   5.855  6.385  7.305  5.9705  5.963\n",
      "4   5.796  6.255  6.720  6.0000  6.153\n",
      "5   5.927  6.635  7.229  6.3370  6.211\n",
      "6   6.067  6.812  7.012  6.3070  6.239\n",
      "7   6.026  6.497  7.651  6.3650  6.418\n",
      "8   5.838  6.533  6.999  6.0060  5.882\n",
      "9   5.317  5.957  6.417  5.6860  5.649\n",
      "10  4.636  5.117  6.345  4.8130  4.896\n",
      "11  4.021  4.565  5.238  4.3140  4.311\n"
     ]
    }
   ],
   "source": [
    "anova = pd.concat([df2005['value'], df2010['value'], df2015['value'], df2020['value'], df2021['value'],], axis=1, keys=['2005', '2010', '2015', '2020', '2021'])\n",
    "print(anova)"
   ]
  },
  {
   "attachments": {},
   "cell_type": "markdown",
   "metadata": {},
   "source": [
    "Aplicando ANOVA"
   ]
  },
  {
   "cell_type": "code",
   "execution_count": 13,
   "metadata": {},
   "outputs": [
    {
     "name": "stdout",
     "output_type": "stream",
     "text": [
      "Estadística F: 6.635726519774801\n",
      "Valor p: 0.00019712498189864864\n"
     ]
    }
   ],
   "source": [
    "result = f_oneway(*[anova[col] for col in anova])\n",
    "\n",
    "\n",
    "print('Estadística F:', result.statistic)\n",
    "print('Valor p:', result.pvalue)\n"
   ]
  }
 ],
 "metadata": {
  "kernelspec": {
   "display_name": "Python 3",
   "language": "python",
   "name": "python3"
  },
  "language_info": {
   "codemirror_mode": {
    "name": "ipython",
    "version": 3
   },
   "file_extension": ".py",
   "mimetype": "text/x-python",
   "name": "python",
   "nbconvert_exporter": "python",
   "pygments_lexer": "ipython3",
   "version": "3.11.1"
  },
  "orig_nbformat": 4
 },
 "nbformat": 4,
 "nbformat_minor": 2
}
